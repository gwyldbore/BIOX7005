{
 "cells": [
  {
   "cell_type": "code",
   "execution_count": 1,
   "id": "b1686851",
   "metadata": {},
   "outputs": [
    {
     "name": "stdout",
     "output_type": "stream",
     "text": [
      "Pairwise comparison: N3281_Parent_of_N1_N4 vs N3282_N1\n",
      "Number of differences: 23\n",
      "\n",
      "Pairwise comparison: N3281_Parent_of_N1_N4 vs N9923_N4\n",
      "Number of differences: 112\n",
      "\n",
      "Pairwise comparison: N3282_N1 vs N9923_N4\n",
      "Number of differences: 133\n",
      "\n"
     ]
    }
   ],
   "source": [
    "from Bio import AlignIO\n",
    "\n",
    "def count_pairwise_differences(seq1, seq2):\n",
    "    num_positions = len(seq1)\n",
    "    num_differences = 0\n",
    "    for pos in range(num_positions):\n",
    "        if seq1[pos] != '-' and seq2[pos] != '-' and seq1[pos] != seq2[pos]:\n",
    "            num_differences += 1\n",
    "    return num_differences\n",
    "\n",
    "alignment_file = './candidate_ancestors.aln'\n",
    "alignment = AlignIO.read(alignment_file, 'fasta')\n",
    "\n",
    "num_sequences = len(alignment)\n",
    "\n",
    "results = []\n",
    "for i in range(num_sequences):\n",
    "    for j in range(i + 1, num_sequences):\n",
    "        seq1 = alignment[i].seq\n",
    "        seq2 = alignment[j].seq\n",
    "        name1 = alignment[i].id\n",
    "        name2 = alignment[j].id\n",
    "        num_diffs = count_pairwise_differences(seq1, seq2)\n",
    "        results.append((name1, name2, num_diffs))\n",
    "\n",
    "for name1, name2, num_diffs in results:\n",
    "    print(f'Pairwise comparison: {name1} vs {name2}')\n",
    "    print(f'Number of differences: {num_diffs}')\n",
    "    print()\n"
   ]
  },
  {
   "cell_type": "code",
   "execution_count": null,
   "id": "f3404029",
   "metadata": {},
   "outputs": [],
   "source": []
  }
 ],
 "metadata": {
  "kernelspec": {
   "display_name": "BIOX7005",
   "language": "python",
   "name": "python3"
  },
  "language_info": {
   "codemirror_mode": {
    "name": "ipython",
    "version": 3
   },
   "file_extension": ".py",
   "mimetype": "text/x-python",
   "name": "python",
   "nbconvert_exporter": "python",
   "pygments_lexer": "ipython3",
   "version": "3.12.2"
  }
 },
 "nbformat": 4,
 "nbformat_minor": 5
}
