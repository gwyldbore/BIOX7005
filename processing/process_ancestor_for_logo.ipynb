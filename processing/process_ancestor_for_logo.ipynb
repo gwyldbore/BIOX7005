{
 "cells": [
  {
   "cell_type": "code",
   "execution_count": 1,
   "metadata": {},
   "outputs": [],
   "source": [
    "from Bio import SeqIO\n",
    "from Bio.Seq import Seq\n",
    "from Bio.SeqRecord import SeqRecord"
   ]
  },
  {
   "cell_type": "code",
   "execution_count": 3,
   "metadata": {},
   "outputs": [],
   "source": [
    "def remove_gap_positions(family1_file, family2_file, family1_output, family2_output, family1_ids_file, family2_ids_file):\n",
    "    # Read the sequence IDs from the ID files\n",
    "    with open(family1_ids_file, \"r\") as file1, open(family2_ids_file, \"r\") as file2:\n",
    "        family1_ids = set(file1.read().splitlines())\n",
    "        family2_ids = set(file2.read().splitlines())\n",
    "\n",
    "    # Read the sequences into lists of SeqRecord objects\n",
    "    family1_records = [record for record in SeqIO.parse(family1_file, \"fasta\") if record.id in family1_ids]\n",
    "    family2_records = [record for record in SeqIO.parse(family2_file, \"fasta\") if record.id in family2_ids]\n",
    "\n",
    "    # Combine records from both families to identify gap-only columns\n",
    "    combined_records = family1_records + family2_records\n",
    "\n",
    "    # Get the length of the alignment\n",
    "    alignment_length = len(combined_records[0].seq)\n",
    "\n",
    "    # Identify columns that are not gaps in all sequences\n",
    "    columns_to_keep = []\n",
    "    for i in range(alignment_length):\n",
    "        if not all(record.seq[i] == \"-\" for record in combined_records):\n",
    "            columns_to_keep.append(i)\n",
    "\n",
    "    # Create new sequences without the gap-only columns for both families\n",
    "    new_family1_records = []\n",
    "    for record in family1_records:\n",
    "        new_seq = Seq(\"\".join([record.seq[i] for i in columns_to_keep]))\n",
    "        new_family1_records.append(SeqRecord(new_seq, id=record.id, description=\"\"))\n",
    "\n",
    "    new_family2_records = []\n",
    "    for record in family2_records:\n",
    "        new_seq = Seq(\"\".join([record.seq[i] for i in columns_to_keep]))\n",
    "        new_family2_records.append(SeqRecord(new_seq, id=record.id, description=\"\"))\n",
    "\n",
    "    # Write the filtered sequences to new FASTA files\n",
    "    SeqIO.write(new_family1_records, family1_output, \"fasta\")\n",
    "    SeqIO.write(new_family2_records, family2_output, \"fasta\")\n",
    "    print(f\"Filtered alignment written to {family1_output} and {family2_output}\")\n",
    "\n",
    "def extract_sequence_ids(input_file, output_ids_file):\n",
    "    # Read the sequences into a list of SeqRecord objects\n",
    "    records = list(SeqIO.parse(input_file, \"fasta\"))\n",
    "\n",
    "    # Extract sequence IDs and write them to a text file\n",
    "    with open(output_ids_file, \"w\") as id_file:\n",
    "        for record in records:\n",
    "            id_file.write(record.id + \"\\n\")\n",
    "\n",
    "    print(f\"Sequence IDs written to {output_ids_file}\")"
   ]
  },
  {
   "cell_type": "code",
   "execution_count": 20,
   "metadata": {},
   "outputs": [],
   "source": [
    "cd70NR1file = '../data/node_ids/cd70/N6_ids_aligned.aln'\n",
    "cd70NR1_ungapped = './cd70/N6_ids_ungapped.aln'\n",
    "cd70NR4file = '../data/node_ids/cd70/N81_ids_aligned.aln'\n",
    "cd70NR4_ungapped = './cd70/N81_ids_ungapped.aln'\n",
    "cd70NR1_ids = 'cd70/NR1_ids.txt'\n",
    "cd70NR4_ids = 'cd70/NR4_ids.txt'\n",
    "\n",
    "cd80NR1file = '../data/node_ids/cd80/N7_ids_aligned.aln'\n",
    "cd80NR1_ungapped = './cd80/N7_ids_ungapped.aln'\n",
    "cd80NR4file = '../data/node_ids/cd80/N186_ids_aligned.aln'\n",
    "cd80NR4_ungapped = 'cd80/N186_ids_ungapped.aln'\n",
    "cd80NR1_ids = 'cd80/NR1_ids.txt'\n",
    "cd80NR4_ids = 'cd80/NR4_ids.txt'\n",
    "\n",
    "cd85NR1file = '../data/node_ids/cd85/N7_ids_aligned.aln'\n",
    "cd85NR1_ungapped = './cd85/N7_ids_ungapped.aln'\n",
    "cd85NR4file = '../data/node_ids/cd85/N299_ids_aligned.aln'\n",
    "cd85NR4_ungapped = 'cd85/N299_ids_ungapped.aln'\n",
    "cd85NR1_ids = 'cd85/NR1_ids.txt'\n",
    "cd85NR4_ids = 'cd85/NR4_ids.txt'\n"
   ]
  },
  {
   "cell_type": "code",
   "execution_count": 21,
   "metadata": {},
   "outputs": [
    {
     "name": "stdout",
     "output_type": "stream",
     "text": [
      "Sequence IDs written to cd70/NR1_ids.txt\n",
      "Sequence IDs written to cd70/NR4_ids.txt\n",
      "Filtered alignment written to ./cd70/N6_ids_ungapped.aln and ./cd70/N81_ids_ungapped.aln\n",
      "Sequence IDs written to cd80/NR1_ids.txt\n",
      "Sequence IDs written to cd80/NR4_ids.txt\n",
      "Filtered alignment written to ./cd80/N7_ids_ungapped.aln and cd80/N186_ids_ungapped.aln\n",
      "Sequence IDs written to cd85/NR1_ids.txt\n",
      "Sequence IDs written to cd85/NR4_ids.txt\n",
      "Filtered alignment written to ./cd85/N7_ids_ungapped.aln and cd85/N299_ids_ungapped.aln\n"
     ]
    }
   ],
   "source": [
    "extract_sequence_ids(cd70NR1file, cd70NR1_ids)\n",
    "extract_sequence_ids(cd70NR4file, cd70NR4_ids)\n",
    "remove_gap_positions(cd70NR1file, cd70NR4file, cd70NR1_ungapped, cd70NR4_ungapped, cd70NR1_ids, cd70NR4_ids)\n",
    "\n",
    "\n",
    "extract_sequence_ids(cd80NR1file, cd80NR1_ids)\n",
    "extract_sequence_ids(cd80NR4file, cd80NR4_ids)\n",
    "remove_gap_positions(cd80NR1file, cd80NR4file, cd80NR1_ungapped, cd80NR4_ungapped, cd80NR1_ids, cd80NR4_ids)\n",
    "\n",
    "\n",
    "extract_sequence_ids(cd85NR1file, cd85NR1_ids)\n",
    "extract_sequence_ids(cd85NR4file, cd85NR4_ids)\n",
    "remove_gap_positions(cd85NR1file, cd85NR4file, cd85NR1_ungapped, cd85NR4_ungapped, cd85NR1_ids, cd85NR4_ids)\n",
    "\n"
   ]
  },
  {
   "cell_type": "code",
   "execution_count": null,
   "metadata": {},
   "outputs": [],
   "source": []
  }
 ],
 "metadata": {
  "kernelspec": {
   "display_name": "BIOX7005",
   "language": "python",
   "name": "python3"
  },
  "language_info": {
   "codemirror_mode": {
    "name": "ipython",
    "version": 3
   },
   "file_extension": ".py",
   "mimetype": "text/x-python",
   "name": "python",
   "nbconvert_exporter": "python",
   "pygments_lexer": "ipython3",
   "version": "3.12.2"
  }
 },
 "nbformat": 4,
 "nbformat_minor": 2
}
